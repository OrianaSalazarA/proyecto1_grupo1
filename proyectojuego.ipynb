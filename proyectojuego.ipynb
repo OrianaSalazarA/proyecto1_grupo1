{
 "cells": [
  {
   "cell_type": "markdown",
   "metadata": {},
   "source": [
    "# Proyecto 1. PyGames: Programando juegos con Python"
   ]
  },
  {
   "cell_type": "markdown",
   "metadata": {},
   "source": [
    "## Juego 1. Piedra Papel o Tijera"
   ]
  },
  {
   "cell_type": "markdown",
   "metadata": {},
   "source": [
    "### Pseudocódigo"
   ]
  },
  {
   "cell_type": "markdown",
   "metadata": {},
   "source": [
    "Piedra Papel o Tijera: este es un juego clásico en el que dos jugadores seleccionan una de tres opciones: Piedra, Papel o Tijera. Cada opción tiene una relación de victoria diferente: la Piedra vence a la Tijera, la Tijera vence al Papel y el Papel vence a la Piedra. El objetivo del juego es elegir la opción que vencerá a la opción seleccionada por el oponente. El juego se juega en rondas y el jugador que gana más rondas es el ganador del juego."
   ]
  },
  {
   "cell_type": "markdown",
   "metadata": {},
   "source": [
    "1.  Establecer usuarios; usuario 1 y usuario maquina\n",
    "2.  Establecer las variables de cada opcion\n",
    "3.  Establecer las opciones cada usuario: input/ random\n",
    "4.  Se juegan rondas, definir el limite de rondas: while\n",
    "4.  Definir las reglas: if/ elif/ else\n",
    "6. Salida bucle: determinar resultado  (print ¿Simplificar?)\n",
    "7. Fin del juego: Ronda final\n",
    "+ ¿Quieres jugar una nueva partida?"
   ]
  },
  {
   "cell_type": "markdown",
   "metadata": {},
   "source": [
    "### Código"
   ]
  },
  {
   "cell_type": "code",
   "execution_count": 3,
   "metadata": {},
   "outputs": [
    {
     "name": "stdout",
     "output_type": "stream",
     "text": [
      "¡Preparado para jugar!\n",
      "Elige una opción. Piedra, papel o tijera.\n",
      "¡HAS PERDIDO! Computer: tijeras / raquel: papel\n",
      "¡HAS GANADO! Computer: tijeras / raquel: piedra\n",
      "Algo salió mal... :(\n"
     ]
    }
   ],
   "source": [
    "# Para generar números aleatorios en Python se hace uso del módulo random de la biblioteca estándar.\n",
    "# Este módulo ofrece una serie de funciones que generan números aleatorios de manera diferente.\n",
    "import random\n",
    "\n",
    "# Mejoras: Personalizar el juego con el nombre del jugador\n",
    "Nombre = input(\"¿Como te llamas?\")\n",
    "\n",
    "print(\"¡Preparado para jugar!\")\n",
    "print(\"Elige una opción. Piedra, papel o tijera.\")\n",
    "\n",
    "# Eleccion aleatoria de la opcion escogida por el ordenador: llamado \"computer\" en la demo. \n",
    "# Se han introducido las opciones en tuplas y utilizamos el codigo random para \"una elección aleatoria\"\n",
    "opciones = (\"piedra\", \"papel\", \"tijeras\")\n",
    "\n",
    "# pedimos al jugador que escoja entre las 3 opciones\n",
    "# jugador=str(input(\"piedra, papel o tijeras\"))\n",
    "\n",
    "# establecemos 3 rondas o jugadas. Iniciamos contador a 3 para ir restando en el bucle\n",
    "rondas = 3\n",
    "\n",
    "#####################################################\n",
    "# VA POR PUNTOS NO POR RONDAS !!!!!\n",
    "# CADA VICTORIA SUMA UN PUNTO !!!!!\n",
    "#####################################################\n",
    "\n",
    "# mientras el contador sea más de 0, se sigue jugando\n",
    "while rondas > 0:\n",
    "\n",
    "    opc = random.choice(opciones)\n",
    "    # opc = opciones[random.randrange(0, 3)]\n",
    "    # PENDIENTE DE ELIMINAR: Ahora mismo esta el print para comprobar la funcionalidad del juego que estamos creando.\n",
    "\n",
    "    # pedimos al jugador que escoja entre las 3 opciones\n",
    "    jugador=str(input(\"Piedra, papel o tijera.\"))\n",
    "\n",
    "    # los mensajes repetitivos, podemos mejorarlo con solo un mensaje para ganar o perder\n",
    "    mensaje_ganar = (f\"¡HAS GANADO! Computer: {opc} / {Nombre}: {jugador}\")\n",
    "    mensaje_perder = (f\"¡HAS PERDIDO! Computer: {opc} / {Nombre}: {jugador}\")\n",
    "\n",
    "    # primer posible resultado: empate\n",
    "    if opc==jugador:\n",
    "        print(\"¡EMPATE! Computer:\", opc, Nombre, \":\", jugador)\n",
    "    elif opc==\"piedra\" and jugador == \"papel\":\n",
    "        print(mensaje_ganar)\n",
    "    elif opc==\"piedra\" and jugador == \"tijeras\":\n",
    "        print(mensaje_perder) \n",
    "    elif opc==\"tijeras\" and jugador == \"papel\":\n",
    "        print(mensaje_perder)\n",
    "    elif opc==\"tijeras\" and jugador == \"piedra\":\n",
    "        print(mensaje_ganar)\n",
    "    elif opc==\"papel\" and jugador == \"piedra\":\n",
    "        print(mensaje_perder)       \n",
    "    elif opc==\"papel\" and jugador == \"tijeras\":\n",
    "        print(mensaje_ganar)\n",
    "    else:\n",
    "        print(\"Algo salió mal... :(\")\n",
    "\n",
    "    rondas -=1\n",
    "\n",
    "\n",
    "# FALTA: Añadir las rondas y las puntuaciones\n",
    "# Dificultad: introducir rondas y el contador de ésta, establecido en 3, pero el input salta 4 veces"
   ]
  },
  {
   "cell_type": "markdown",
   "metadata": {},
   "source": [
    "## Ahoracado"
   ]
  },
  {
   "cell_type": "markdown",
   "metadata": {},
   "source": [
    "### Pseudocodigo"
   ]
  },
  {
   "cell_type": "markdown",
   "metadata": {},
   "source": [
    "Ahoracado: es un juego de adivinanzas en el que un jugador elige una palabra y el otro jugador debe adivinarla letra por letra. El jugador que adivina la palabra tiene un número limitado de oportunidades para adivinar las letras que forman la palabra. Cada vez que el jugador adivina una letra incorrecta, se dibuja una parte del cuerpo del personaje del ahorcado en una horca. Si el jugador adivina todas las letras de la palabra antes de que se complete el dibujo del personaje del ahorcado, gana el juego. Si el dibujo del personaje del ahorcado se completa antes de adivinar la palabra, pierde el juego."
   ]
  },
  {
   "cell_type": "markdown",
   "metadata": {},
   "source": [
    "1. Elige una palabra secreta y guardarla en estructura (usuario maquina)\n",
    "2. Preparar estructura para que se puedan seleccionar letras\n",
    "3. Jugador elige letra con input\n",
    "4. Buscar letra elegida en la palabra secreta y devolver resultado \n",
    "5. Salida bucle: contador=0/ complete la palabra\n",
    "7. Fin del juego: Contador de vidas: 7\n",
    "+ ¿Quieres jugar una nueva partida?"
   ]
  },
  {
   "cell_type": "code",
   "execution_count": 4,
   "metadata": {},
   "outputs": [
    {
     "name": "stdout",
     "output_type": "stream",
     "text": [
      "¡Juego del Ahorcado!\n",
      "Adivina la palabra secreta.\n",
      "correcto\n",
      "_o__\n",
      "correcto\n",
      "ho__\n",
      "correcto\n",
      "hol_\n",
      "correcto\n",
      "hola\n",
      "adivinaste\n"
     ]
    }
   ],
   "source": [
    "import random #sirve para importar un valor aleatorio\n",
    "lista_palabras = ['hola', 'chao', 'casa']\n",
    "palabra = random.choice(lista_palabras)\n",
    "letras_adivinadas = ['_'] * len(palabra)\n",
    "letras_incorrectas = []\n",
    "intentos = 4\n",
    "print(\"¡Juego del Ahorcado!\")\n",
    "print(\"Adivina la palabra secreta.\")\n",
    "while intentos >0:\n",
    "    letras = input('ingresa una letra')\n",
    "    if letras in palabra:\n",
    "        for i in range(len(palabra)):\n",
    "            if palabra[i] == letras:\n",
    "                letras_adivinadas[i] = letras\n",
    "        print('correcto')\n",
    "        print( ''.join(letras_adivinadas))\n",
    "    else:\n",
    "        print('no esta la letra')\n",
    "    intentos -= 1\n",
    "    if '_' not in letras_adivinadas:\n",
    "        print('adivinaste')\n",
    "        break\n",
    "    elif intentos == 0:\n",
    "        print('agotaste los intentos')\n",
    "        print('la palabra era', palabra)\n",
    "        break\n",
    "\n",
    "#####################################################\n",
    "# DEVOLVER NUMERO DE VIDAS\n",
    "    #####################################################"
   ]
  },
  {
   "cell_type": "code",
   "execution_count": 1,
   "metadata": {},
   "outputs": [
    {
     "name": "stdout",
     "output_type": "stream",
     "text": [
      "¡Juego del Ahorcado!\n",
      "Adivina la palabra secreta.\n",
      "_ _ _ _\n",
      "Por favor, ingresa una única letra.\n",
      "Por favor, ingresa una única letra.\n",
      "Por favor, ingresa una única letra.\n",
      "Por favor, ingresa una única letra.\n",
      "Esa letra no está en la palabra. Letras incorrectas: p\n",
      "Te quedan 9 intentos.\n",
      "Por favor, ingresa una única letra.\n",
      "Por favor, ingresa una única letra.\n",
      "Por favor, ingresa una única letra.\n",
      "Por favor, ingresa una única letra.\n",
      "Por favor, ingresa una única letra.\n",
      "Por favor, ingresa una única letra.\n",
      "Por favor, ingresa una única letra.\n",
      "Por favor, ingresa una única letra.\n",
      "Por favor, ingresa una única letra.\n",
      "Por favor, ingresa una única letra.\n",
      "Por favor, ingresa una única letra.\n",
      "Por favor, ingresa una única letra.\n",
      "Por favor, ingresa una única letra.\n",
      "Por favor, ingresa una única letra.\n",
      "Por favor, ingresa una única letra.\n",
      "Por favor, ingresa una única letra.\n",
      "Esa letra no está en la palabra. Letras incorrectas: p d\n",
      "Te quedan 8 intentos.\n",
      "Ya has intentado esa letra. Intenta con otra.\n",
      "Ya has intentado esa letra. Intenta con otra.\n",
      "Ya has intentado esa letra. Intenta con otra.\n"
     ]
    }
   ],
   "source": [
    "# Version oriana que si cuenta puntos\n",
    "\n",
    "import random  #sirve para importar un valor aleatorio\n",
    "palabras = [\"casa\", \"jugo\", \"palo\", \"meta\", \"piso\", \"coche\", \"perro\"] #creamos la lista de palabras a adivinar\n",
    "palabra = random.choice(palabras)  #Elige un elemento aleatorio de una lista\n",
    "letras_adivinadas = ['_'] * len(palabra)\n",
    "letras_incorrectas = []\n",
    "intentos = 10\n",
    "print(\"¡Juego del Ahorcado!\")\n",
    "print(\"Adivina la palabra secreta.\")\n",
    "print(\" \".join(letras_adivinadas))  # Muestra las letras adivinadas\n",
    "while True:\n",
    "    if '_' not in letras_adivinadas:  # Todas las letras han sido adivinadas\n",
    "        print(\"¡Felicidades! Has adivinado la palabra\")\n",
    "        break  # se rompe el bucle si se adivina la palabra\n",
    "    elif intentos == 0:  # El jugador ha agotado todos los intentos\n",
    "        print(\"Lo siento, has agotado tus intentos. La palabra era:\", palabra)\n",
    "        print(\"Gracias por jugar. ¡Hasta luego!\")\n",
    "        break\n",
    "    letra = input(\"Ingresa una letra: \") # indicamos a usuario que ingrese una letra\n",
    "    if len(letra) != 1 or not letra :\n",
    "        print(\"Por favor, ingresa una única letra.\")\n",
    "    elif letra in letras_adivinadas or letra in letras_incorrectas:\n",
    "        print(\"Ya has intentado esa letra. Intenta con otra.\")\n",
    "    elif letra in palabra:\n",
    "        for i in range(len(palabra)):\n",
    "            if palabra[i] == letra:\n",
    "                letras_adivinadas[i] = letra\n",
    "        print(\" \".join(letras_adivinadas)) #concatenar elementos de una lista en una sola cadena\n",
    "    else:\n",
    "        intentos -= 1\n",
    "        letras_incorrectas.append(letra)\n",
    "        print(\"Esa letra no está en la palabra. Letras incorrectas:\", \" \".join(letras_incorrectas))\n",
    "        print(\"Te quedan {} intentos.\".format(intentos))"
   ]
  },
  {
   "cell_type": "markdown",
   "metadata": {},
   "source": [
    "## Juego de preguntas y respuestas"
   ]
  },
  {
   "cell_type": "markdown",
   "metadata": {},
   "source": [
    "### Pseudocodigo"
   ]
  },
  {
   "cell_type": "markdown",
   "metadata": {},
   "source": [
    "Juego de preguntas y respuestas: es un juego en el que se hacen preguntas sobre una variedad de temas y los jugadores deben responder correctamente para avanzar. Las preguntas pueden ser de diferentes categorías, como historia, ciencias, entretenimiento o cultura general. El objetivo del juego es responder la mayor cantidad de preguntas correctamente para ganar el juego. Este juego puede ser jugado de forma individual o en equipo y es una forma divertida de aprender y poner a prueba tus conocimientos."
   ]
  },
  {
   "cell_type": "markdown",
   "metadata": {},
   "source": [
    "1. Establecer preguntas-nº de preguntas y respuesta en VARIOS diccionarios de CATEGORIAS DIFERENTES\n",
    "2. El tema de las preguntas: aleatorios/ seleccionado por el jugador\n",
    "3. Establecer respuesta correcta con un booleano\n",
    "4. Contador de preguntas acertadas\n",
    "5. Fin del juego: Limite de preguntas\n",
    "+ ¿Quieres jugar una nueva partida?"
   ]
  },
  {
   "cell_type": "code",
   "execution_count": 13,
   "metadata": {},
   "outputs": [
    {
     "name": "stdout",
     "output_type": "stream",
     "text": [
      "Bienvenid@ a PREGUNTAS Y RESPUESTAS Elena . ¿Te atreves con el bloque de GEOGRAFIA?\n",
      "¿Cuál es el río más largo de la Península Ibérica?\n",
      "Tu respuesta es: tajo\n",
      "Correcto 1 acertadas 0 fallidas\n",
      "¿Cuál es el país más pequeño del mundo?\n",
      "Tu respuesta es vaticano\n",
      "Correcto 2 acertadas 0 fallidas\n",
      "¿Qué país tiene más habitantes?\n",
      "Tu respuesta es: india\n",
      "Correcto 3 acertadas 0 fallidas\n",
      "¿Qué país es el más grande del mundo? \n",
      "Tu respuesta es: rusia\n",
      "Correcto 4 acertadas 0 fallidas\n",
      "¿Cuál es la montaña más alta del mundo?\n",
      "\n",
      "Inorrecto 4 acertadas 1 fallidas\n",
      "ERES UN AUTENTICO EXPLORADOR. ¡Has acertado 4 preguntas y fallado solo 1!\n"
     ]
    }
   ],
   "source": [
    "saludo = input(\"¡Hola! ¿Cómo te llamas?\" )\n",
    "print(\"Bienvenid@ a PREGUNTAS Y RESPUESTAS\", saludo.title(), \". ¿Te atreves con el bloque de GEOGRAFIA?\")\n",
    "\n",
    "preguntas_acertadas = 0\n",
    "preguntas_fallidas = 0\n",
    "\n",
    "while preguntas_acertadas < 3 and preguntas_fallidas < 3:\n",
    "\n",
    "    #PREGUNTA 1\n",
    "\n",
    "    print(\"¿Cuál es el río más largo de la Península Ibérica?\")\n",
    "    respuesta1=input(\"¿Cuál es el río más largo de la Península Ibérica?\").lower()\n",
    "    print(\"Tu respuesta es:\", respuesta1)\n",
    "\n",
    "    #mensaje_correcto = f\"Correcto, llevas {preguntas_acertadas} preguntas acertadas y {preguntas_fallidas} fallidas!\"\n",
    "    #mensaje_incorrecto = f\"No has acertado... tal vez en la proxima pregunta tengas más suerte. Llevas {preguntas_acertadas} preguntas acertadas y {preguntas_fallidas} fallidas\"\n",
    "    \n",
    "    if \"tajo\" in respuesta1:\n",
    "        preguntas_acertadas += 1\n",
    "        print('Correcto', preguntas_acertadas, 'acertadas', preguntas_fallidas, 'fallidas')\n",
    "    else:\n",
    "        preguntas_fallidas += 1\n",
    "        print('Inorrecto', preguntas_acertadas, 'acertadas', preguntas_fallidas, 'fallidas')\n",
    "    \n",
    "\n",
    "    #PREGUNTA 2\n",
    "        \n",
    "    print(\"¿Cuál es el país más pequeño del mundo?\")\n",
    "    respuesta2=input(\"¿Cuál es el país más pequeño del mundo?\").lower()\n",
    "    print(\"Tu respuesta es\", respuesta2)\n",
    "\n",
    "    if \"vaticano\" in respuesta2:\n",
    "        preguntas_acertadas += 1\n",
    "        print('Correcto', preguntas_acertadas, 'acertadas', preguntas_fallidas, 'fallidas')\n",
    "    else:\n",
    "        preguntas_fallidas += 1\n",
    "        print('Inorrecto', preguntas_acertadas, 'acertadas', preguntas_fallidas, 'fallidas')\n",
    "\n",
    "    \n",
    "    #PREGUNTA 3\n",
    "        \n",
    "    print(\"¿Qué país tiene más habitantes?\")\n",
    "    respuesta3=input(\"¿Qué país tiene más habitantes?\").lower()\n",
    "    print(\"Tu respuesta es:\", respuesta3)\n",
    "\n",
    "    if \"india\" in respuesta3:\n",
    "        preguntas_acertadas += 1\n",
    "        print('Correcto', preguntas_acertadas, 'acertadas', preguntas_fallidas, 'fallidas')\n",
    "    else:\n",
    "        preguntas_fallidas += 1\n",
    "        print('Inorrecto', preguntas_acertadas, 'acertadas', preguntas_fallidas, 'fallidas')\n",
    "\n",
    "    #PREGUNTA 4\n",
    "        \n",
    "    print(\"¿Qué país es el más grande del mundo? \")\n",
    "    respuesta4=input(\"¿Qué país es el más grande del mundo? \").lower()\n",
    "    print(\"Tu respuesta es:\", respuesta4)\n",
    "\n",
    "    if \"rusia\" in respuesta4:\n",
    "        preguntas_acertadas += 1\n",
    "        print('Correcto', preguntas_acertadas, 'acertadas', preguntas_fallidas, 'fallidas')\n",
    "    else:\n",
    "        preguntas_fallidas += 1\n",
    "        print('Inorrecto', preguntas_acertadas, 'acertadas', preguntas_fallidas, 'fallidas')\n",
    "\n",
    "    \n",
    "    #PREGUNTA 5\n",
    "    print(\"¿Cuál es la montaña más alta del mundo?\")\n",
    "    respuesta5=input(\"¿Cuál es la montaña más alta del mundo?\").lower()\n",
    "    print(respuesta5)\n",
    "\n",
    "    if \"everest\" in respuesta5:\n",
    "        preguntas_acertadas += 1\n",
    "        print('Correcto', preguntas_acertadas, 'acertadas', preguntas_fallidas, 'fallidas')\n",
    "    else:\n",
    "        preguntas_fallidas += 1\n",
    "        print('Inorrecto', preguntas_acertadas, 'acertadas', preguntas_fallidas, 'fallidas')\n",
    "        \n",
    "\n",
    "if preguntas_acertadas >= 3 and preguntas_fallidas <= 3:\n",
    "    print(f\"ERES UN AUTENTICO EXPLORADOR. ¡Has acertado {preguntas_acertadas} preguntas y fallado solo {preguntas_fallidas}!\")\n",
    "else:\n",
    "    print(f\"Sigue estudiando... pronto lo conseguirás. Has acertado {preguntas_acertadas} preguntas y fallado {preguntas_fallidas}.\")"
   ]
  },
  {
   "cell_type": "code",
   "execution_count": 1,
   "metadata": {},
   "outputs": [
    {
     "name": "stdout",
     "output_type": "stream",
     "text": [
      "Bienvenid@ a PREGUNTAS Y RESPUESTAS Elena . ¿Te atreves con el bloque de GEOGRAFIA?\n",
      "¿Cuál es el río más largo de la Península Ibérica?\n",
      "Correcto, llevas 1 preguntas acertadas y 0 fallidas!\n",
      "¿Cuál es el país más pequeño del mundo?\n",
      "Correcto, llevas 2 preguntas acertadas y 0 fallidas!\n",
      "¿Qué país tiene más habitantes?\n",
      "Correcto, llevas 3 preguntas acertadas y 0 fallidas!\n",
      "ERES UN AUTENTICO EXPLORADOR. ¡Has acertado 3 preguntas y fallado solo 0!\n"
     ]
    }
   ],
   "source": [
    "saludo = input(\"¡Hola! ¿Cómo te llamas?\" )\n",
    "print(\"Bienvenid@ a PREGUNTAS Y RESPUESTAS\", saludo.title(), \". ¿Te atreves con el bloque de GEOGRAFIA?\")\n",
    "\n",
    "# Defino diccionario de preguntas y respuestas (DE MOMOENTO NO LO HEMOS USADO)\n",
    "dic_geografia = {\"¿Cuál es el río más largo de la Península Ibérica?\" : \"tajo\",\n",
    "                         \"¿Cuál es el país más pequeño del mundo?\" : \"vaticano\",\n",
    "                         \"¿Qué país tiene más habitantes?\" : \"india\",\n",
    "                         \"¿Qué país es el más grande del mundo?\" : \"rusia\",\n",
    "                         \"¿Cuál es la montaña más alta del mundo?\" : \"everest\"}\n",
    "\n",
    "# \"¿Cuál es la capital de Bélgica?\" : \"bruselas\"\n",
    "# \"¿En qué país está la catarata más alta del mundo?\" : \"venezuela\"\n",
    "# \"¿Cuál es el río más largo del mundo?\" : \"nilo\"\n",
    "# \"¿Cómo se llaman la cordillera entre Argentina y Chile?\" : \"andes\"\n",
    "# \"¿En qué municipio está la Playa de San Juan?\" : \"alicante\"\n",
    "\n",
    "# Defino contador de preguntas acertadas y preguntas fallidas\n",
    "preguntas_acertadas = 0\n",
    "preguntas_fallidas = 0\n",
    "\n",
    "for pregunta,respuesta in dic_geografia.items():\n",
    "\n",
    "    print(pregunta)\n",
    "    respuesta_user = input(pregunta)\n",
    "\n",
    "    if respuesta in respuesta_user:\n",
    "        preguntas_acertadas += 1\n",
    "        print(f\"Correcto, llevas {preguntas_acertadas} preguntas acertadas y {preguntas_fallidas} fallidas!\")\n",
    "    else:\n",
    "        preguntas_fallidas += 1\n",
    "        print(f\"No has acertado... tal vez en la proxima pregunta tengas más suerte. Llevas {preguntas_acertadas} preguntas acertadas y {preguntas_fallidas} fallidas\")\n",
    "\n",
    "    if preguntas_acertadas < 3 and preguntas_fallidas < 3:\n",
    "        continue\n",
    "    else:\n",
    "        break\n",
    "\n",
    "if preguntas_acertadas >= 3 and preguntas_fallidas <= 3:\n",
    "    print(f\"ERES UN AUTENTICO EXPLORADOR. ¡Has acertado {preguntas_acertadas} preguntas y fallado solo {preguntas_fallidas}!\")\n",
    "else:\n",
    "    print(f\"Sigue estudiando... pronto lo conseguirás. Has acertado {preguntas_acertadas} preguntas y fallado {preguntas_fallidas}.\")\n",
    "\n"
   ]
  },
  {
   "cell_type": "code",
   "execution_count": 6,
   "metadata": {},
   "outputs": [
    {
     "name": "stdout",
     "output_type": "stream",
     "text": [
      "Bienvenid@ a PREGUNTAS Y RESPUESTAS Hola . ¿Te atreves con el bloque de GEOGRAFIA?\n",
      "¿Cuál es el río más largo de la Península Ibérica?\n",
      "Correcto, llevas 1 preguntas acertadas y 0 fallidas!\n",
      "¿Cuál es el país más pequeño del mundo?\n",
      "Correcto, llevas 2 preguntas acertadas y 0 fallidas!\n",
      "¿Qué país tiene más habitantes?\n",
      "No has acertado... tal vez en la próxima pregunta tengas más suerte. Llevas 2 preguntas acertadas y 1 fallidas\n",
      "¿Qué país es el más grande del mundo?\n",
      "Correcto, llevas 3 preguntas acertadas y 1 fallidas!\n",
      "ERES UN AUTÉNTICO EXPLORADOR. ¡Has acertado 3 preguntas y fallado solo 1!\n"
     ]
    }
   ],
   "source": [
    "saludo = input(\"¡Hola! ¿Cómo te llamas? \")\n",
    "print(\"Bienvenid@ a PREGUNTAS Y RESPUESTAS\", saludo.title(), \". ¿Te atreves con el bloque de GEOGRAFIA?\")\n",
    "# Defino diccionario de preguntas y respuestas\n",
    "dic_geografia = {\n",
    "    \"¿Cuál es el río más largo de la Península Ibérica?\" : \"tajo\",\n",
    "    \"¿Cuál es el país más pequeño del mundo?\" : \"vaticano\",\n",
    "    \"¿Qué país tiene más habitantes?\" : \"india\",\n",
    "    \"¿Qué país es el más grande del mundo?\" : \"rusia\",\n",
    "    \"¿Cuál es la montaña más alta del mundo?\" : \"everest\"\n",
    "}\n",
    "# Defino contador de preguntas acertadas y preguntas fallidas\n",
    "preguntas_acertadas = 0\n",
    "preguntas_fallidas = 0\n",
    "pregunta_actual = iter(dic_geografia.items())\n",
    "\n",
    "while preguntas_acertadas < 3 and preguntas_fallidas < 3:\n",
    "    # Usamos next, función que permite obtener le próximo elemento de un iterador\n",
    "    pregunta, respuesta = next(pregunta_actual)\n",
    "    print(pregunta)\n",
    "    respuesta_user = input(pregunta)\n",
    "    if respuesta_user.lower() == respuesta:\n",
    "        preguntas_acertadas += 1\n",
    "        print(f\"Correcto, llevas {preguntas_acertadas} preguntas acertadas y {preguntas_fallidas} fallidas!\")\n",
    "    else:\n",
    "        preguntas_fallidas += 1\n",
    "        print(f\"No has acertado... tal vez en la próxima pregunta tengas más suerte. Llevas {preguntas_acertadas} preguntas acertadas y {preguntas_fallidas} fallidas\")\n",
    "\n",
    "if preguntas_acertadas >= 3 and preguntas_fallidas <= 3:\n",
    "    print(f\"ERES UN AUTÉNTICO EXPLORADOR. ¡Has acertado {preguntas_acertadas} preguntas y fallado solo {preguntas_fallidas}!\")\n",
    "else:\n",
    "    print(f\"Sigue estudiando... pronto lo conseguirás. Has acertado {preguntas_acertadas} preguntas y fallado {preguntas_fallidas}.\")"
   ]
  }
 ],
 "metadata": {
  "kernelspec": {
   "display_name": "Python 3",
   "language": "python",
   "name": "python3"
  },
  "language_info": {
   "codemirror_mode": {
    "name": "ipython",
    "version": 3
   },
   "file_extension": ".py",
   "mimetype": "text/x-python",
   "name": "python",
   "nbconvert_exporter": "python",
   "pygments_lexer": "ipython3",
   "version": "3.6.9"
  }
 },
 "nbformat": 4,
 "nbformat_minor": 2
}
