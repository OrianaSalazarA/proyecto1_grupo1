{
 "cells": [
  {
   "cell_type": "markdown",
   "metadata": {},
   "source": [
    "Piedra Papel o Tijera: este es un juego clásico en el que dos jugadores seleccionan una de tres opciones: Piedra, Papel o Tijera. Cada opción tiene una relación de victoria diferente: la Piedra vence a la Tijera, la Tijera vence al Papel y el Papel vence a la Piedra. El objetivo del juego es elegir la opción que vencerá a la opción seleccionada por el oponente. El juego se juega en rondas y el jugador que gana más rondas es el ganador del juego."
   ]
  },
  {
   "cell_type": "markdown",
   "metadata": {},
   "source": [
    "1.  Establecer usuarios; usuario 1 y usuario maquina\n",
    "2.  Establecer las variables de cada opcion\n",
    "3.  Establecer las opciones cada usuario: input/ random\n",
    "4.  Se juegan rondas, definir el limite de rondas: while\n",
    "4.  Definir las reglas: if/ elif/ else\n",
    "6. Salida bucle: determinar resultado  (print)\n",
    "7. Fin del juego: Ronda final\n",
    "+ ¿Quieres jugar una nueva partida?"
   ]
  },
  {
   "cell_type": "markdown",
   "metadata": {},
   "source": [
    "Ahoracado: es un juego de adivinanzas en el que un jugador elige una palabra y el otro jugador debe adivinarla letra por letra. El jugador que adivina la palabra tiene un número limitado de oportunidades para adivinar las letras que forman la palabra. Cada vez que el jugador adivina una letra incorrecta, se dibuja una parte del cuerpo del personaje del ahorcado en una horca. Si el jugador adivina todas las letras de la palabra antes de que se complete el dibujo del personaje del ahorcado, gana el juego. Si el dibujo del personaje del ahorcado se completa antes de adivinar la palabra, pierde el juego."
   ]
  },
  {
   "cell_type": "markdown",
   "metadata": {},
   "source": [
    "1. Elige una palabra secreta y guardarla en estructura (usuario maquina)\n",
    "2. Preparar estructura para que se puedan seleccionar letras\n",
    "3. Jugador elige letra con input\n",
    "4. Buscar letra elegida en la palabra secreta y devolver resultado \n",
    "5. Salida bucle: contador=0/ complete la palabra\n",
    "7. Fin del juego: Contador de vidas: 7\n",
    "+ ¿Quieres jugar una nueva partida?"
   ]
  },
  {
   "cell_type": "markdown",
   "metadata": {},
   "source": [
    "Juego de preguntas y respuestas: es un juego en el que se hacen preguntas sobre una variedad de temas y los jugadores deben responder correctamente para avanzar. Las preguntas pueden ser de diferentes categorías, como historia, ciencias, entretenimiento o cultura general. El objetivo del juego es responder la mayor cantidad de preguntas correctamente para ganar el juego. Este juego puede ser jugado de forma individual o en equipo y es una forma divertida de aprender y poner a prueba tus conocimientos."
   ]
  },
  {
   "cell_type": "markdown",
   "metadata": {},
   "source": [
    "1. Establecer preguntas-nº de preguntas y respuesta en VARIOS diccionarios de CATEGORIAS DIFERENTES\n",
    "2. El tema de las preguntas: aleatorios/ seleccionado por el jugador\n",
    "3. Establecer respuesta correcta con un booleano\n",
    "4. Contador de preguntas acertadas\n",
    "5. Fin del juego: Limite de preguntas\n",
    "+ ¿Quieres jugar una nueva partida?"
   ]
  },
  {
   "cell_type": "code",
   "execution_count": 4,
   "metadata": {},
   "outputs": [],
   "source": [
    "dicc={\"mar\":\"azul\"}"
   ]
  },
  {
   "cell_type": "code",
   "execution_count": 8,
   "metadata": {},
   "outputs": [
    {
     "name": "stdout",
     "output_type": "stream",
     "text": [
      "error\n"
     ]
    }
   ],
   "source": [
    "preg=input(\"¿De que color es el mar? rojo o azul\")\n",
    "if preg== \"azul\":\n",
    "    print(preg ==\"azul\")\n",
    "else:\n",
    "    print(\"error\")"
   ]
  }
 ],
 "metadata": {
  "kernelspec": {
   "display_name": "Python 3",
   "language": "python",
   "name": "python3"
  },
  "language_info": {
   "codemirror_mode": {
    "name": "ipython",
    "version": 3
   },
   "file_extension": ".py",
   "mimetype": "text/x-python",
   "name": "python",
   "nbconvert_exporter": "python",
   "pygments_lexer": "ipython3",
   "version": "3.12.2"
  }
 },
 "nbformat": 4,
 "nbformat_minor": 2
}
