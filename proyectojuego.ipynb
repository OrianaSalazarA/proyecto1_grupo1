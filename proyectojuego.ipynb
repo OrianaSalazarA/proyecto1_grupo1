{
 "cells": [
  {
   "cell_type": "markdown",
   "metadata": {},
   "source": [
    "# Proyecto 1. PyGames: Programando juegos con Python"
   ]
  },
  {
   "cell_type": "markdown",
   "metadata": {},
   "source": [
    "## Juego 1. Piedra, Papel o Tijeras"
   ]
  },
  {
   "cell_type": "markdown",
   "metadata": {},
   "source": [
    "### Pseudocódigo"
   ]
  },
  {
   "cell_type": "markdown",
   "metadata": {},
   "source": [
    "Piedra Papel o Tijera: este es un juego clásico en el que dos jugadores seleccionan una de tres opciones: Piedra, Papel o Tijera. Cada opción tiene una relación de victoria diferente: la Piedra vence a la Tijera, la Tijera vence al Papel y el Papel vence a la Piedra. El objetivo del juego es elegir la opción que vencerá a la opción seleccionada por el oponente. El juego se juega en rondas y el jugador que gana más rondas es el ganador del juego."
   ]
  },
  {
   "cell_type": "markdown",
   "metadata": {},
   "source": [
    "1.  Establecer usuarios; usuario 1 y usuario maquina\n",
    "2.  Establecer las variables de cada opcion\n",
    "3.  Establecer las opciones cada usuario: input/ random\n",
    "4.  Se juegan rondas, definir el limite de rondas: while\n",
    "4.  Definir las reglas: if/ elif/ else\n",
    "6. Salida bucle: determinar resultado  (print ¿Simplificar?)\n",
    "7. Fin del juego: Ronda final\n",
    "+ ¿Quieres jugar una nueva partida?"
   ]
  },
  {
   "cell_type": "markdown",
   "metadata": {},
   "source": [
    "### Código"
   ]
  },
  {
   "cell_type": "code",
   "execution_count": null,
   "metadata": {},
   "outputs": [],
   "source": [
    "# Juego 1. Piedra, papel o tijera\n",
    "\n",
    "# Para generar números aleatorios en Python se hace uso del módulo random de la biblioteca estándar.\n",
    "# Este módulo ofrece una serie de funciones que generan números aleatorios de manera diferente.\n",
    "import random\n",
    "\n",
    "# Mejoras: Personalizar el juego con el nombre del jugador\n",
    "nombre = input(\"¿Como te llamas?\")\n",
    "\n",
    "print(f\"¡Preparado para jugar a Piedra, papel o tijera, {nombre}!\")\n",
    "print(\"El primero que llegue a 3 puntos gana.\")\n",
    "print(\"Elige una opción. Piedra, papel o tijera.\")\n",
    "\n",
    "# Eleccion aleatoria de la opcion escogida por el ordenador: llamado \"computer\" en la demo. \n",
    "# Se han introducido las opciones en tuplas y utilizamos el codigo random para \"una elección aleatoria\"\n",
    "opciones = (\"piedra\", \"papel\", \"tijera\")\n",
    "\n",
    "# pedimos al jugador que escoja entre las 3 opciones\n",
    "# jugador=str(input(\"piedra, papel o tijera\"))\n",
    "\n",
    "puntos_jugador = 0\n",
    "puntos_ordena = 0\n",
    "\n",
    "# mientras el contador sea más de 0, se sigue jugando\n",
    "while puntos_jugador < 3 and puntos_ordena < 3:\n",
    "\n",
    "    opc = random.choice(opciones)\n",
    "\n",
    "    # pedimos al jugador que escoja entre las 3 opciones\n",
    "    jugador=str(input(\"Piedra, papel o tijera.\")).lower()\n",
    "\n",
    "    # los mensajes repetitivos, podemos mejorarlo con solo un mensaje para ganar o perder\n",
    "    # mensaje_ganar = (f\"¡Has ganado esta ronda, tienes {puntos_jugador} puntos acumulados y el ordenador {puntos_ordena}! Ordenador: {opc} / {nombre}: {jugador}\")\n",
    "    # mensaje_perder = (f\"¡Has perdido esta ronda, tienes {puntos_jugador} puntos acumulados y el ordenador {puntos_ordena}! Ordenador: {opc} / {nombre}: {jugador}\")\n",
    "\n",
    "    # primer posible resultado: empate\n",
    "    if opc==jugador:\n",
    "        print(\"¡EMPATE! Ordenador:\", opc, \"/\", nombre, \":\", jugador)\n",
    "    elif opc==\"piedra\" and jugador == \"papel\":\n",
    "        puntos_jugador += 1 \n",
    "        print(f\"¡Has ganado esta ronda, tienes {puntos_jugador} puntos acumulados y el ordenador {puntos_ordena}! Ordenador: {opc} / {nombre}: {jugador}\")\n",
    "    elif opc==\"piedra\" and jugador == \"tijera\":\n",
    "        puntos_ordena += 1\n",
    "        print(f\"¡Has perdido esta ronda, tienes {puntos_jugador} puntos acumulados y el ordenador {puntos_ordena}! Ordenador: {opc} / {nombre}: {jugador}\") \n",
    "    elif opc==\"tijera\" and jugador == \"papel\":\n",
    "        puntos_ordena += 1\n",
    "        print(f\"¡Has perdido esta ronda, tienes {puntos_jugador} puntos acumulados y el ordenador {puntos_ordena}! Ordenador: {opc} / {nombre}: {jugador}\")\n",
    "    elif opc==\"tijera\" and jugador == \"piedra\":\n",
    "        puntos_jugador += 1\n",
    "        print(f\"¡Has ganado esta ronda, tienes {puntos_jugador} puntos acumulados y el ordenador {puntos_ordena}! Ordenador: {opc} / {nombre}: {jugador}\")\n",
    "    elif opc==\"papel\" and jugador == \"piedra\":\n",
    "        puntos_ordena += 1\n",
    "        print(f\"¡Has perdido esta ronda, tienes {puntos_jugador} puntos acumulados y el ordenador {puntos_ordena}! Ordenador: {opc} / {nombre}: {jugador}\")       \n",
    "    elif opc==\"papel\" and jugador == \"tijera\":\n",
    "        puntos_jugador += 1\n",
    "        print(f\"¡Has ganado esta ronda, tienes {puntos_jugador} puntos acumulados y el ordenador {puntos_ordena}! Ordenador: {opc} / {nombre}: {jugador}\")\n",
    "    else:\n",
    "        print(\"Algo salió mal... :( Inténtalo de nuevo.\")\n",
    "\n",
    "if puntos_jugador < 3 and puntos_ordena >= 3:\n",
    "    print('¡VAYA, HAS PERDIDO EL JUEGO!')\n",
    "else:\n",
    "    print('¡ENHORABUENA, HAS GANADO EL JUEGO!')\n",
    "\n",
    "# FALTA: Preguntar si quiere volver a jugar\n",
    "# FALTA: Que hacer cuando sale 3 empates seguidos (sale del bucle, pero ningun mensaje)"
   ]
  },
  {
   "cell_type": "markdown",
   "metadata": {},
   "source": [
    "## Ahorcado"
   ]
  },
  {
   "cell_type": "markdown",
   "metadata": {},
   "source": [
    "### Pseudocodigo"
   ]
  },
  {
   "cell_type": "markdown",
   "metadata": {},
   "source": [
    "Ahoracado: es un juego de adivinanzas en el que un jugador elige una palabra y el otro jugador debe adivinarla letra por letra. El jugador que adivina la palabra tiene un número limitado de oportunidades para adivinar las letras que forman la palabra. Cada vez que el jugador adivina una letra incorrecta, se dibuja una parte del cuerpo del personaje del ahorcado en una horca. Si el jugador adivina todas las letras de la palabra antes de que se complete el dibujo del personaje del ahorcado, gana el juego. Si el dibujo del personaje del ahorcado se completa antes de adivinar la palabra, pierde el juego."
   ]
  },
  {
   "cell_type": "markdown",
   "metadata": {},
   "source": [
    "1. Elige una palabra secreta y guardarla en estructura (usuario maquina)\n",
    "2. Preparar estructura para que se puedan seleccionar letras\n",
    "3. Jugador elige letra con input\n",
    "4. Buscar letra elegida en la palabra secreta y devolver resultado \n",
    "5. Salida bucle: contador=0/ complete la palabra\n",
    "7. Fin del juego: Contador de vidas: 7\n",
    "+ ¿Quieres jugar una nueva partida?"
   ]
  },
  {
   "cell_type": "markdown",
   "metadata": {},
   "source": []
  },
  {
   "cell_type": "markdown",
   "metadata": {},
   "source": [
    "### Código"
   ]
  },
  {
   "cell_type": "code",
   "execution_count": null,
   "metadata": {},
   "outputs": [],
   "source": [
    "import random\n",
    "\n",
    "class Ahorcado:\n",
    "    def __init__(self):\n",
    "        self.vidas = 6\n",
    "        self.lista_palabras = ['hola', 'chao', 'casa']\n",
    "        self.palabra = random.choice(self.lista_palabras)\n",
    "        self.letras_adivinadas = ['_'] * len(self.palabra)\n",
    "        self.nombre = input(\"Escribe el nombre del jugador: \")\n",
    "\n",
    "    def jugar(self):\n",
    "        print(f\"¿Preparado para jugar al Ahorcado, {self.nombre}?\\n\")\n",
    "        print(\"¡Adivina la palabra secreta!\\n\")\n",
    "\n",
    "        while self.vidas > 0:\n",
    "            self.imprimir_ahorcado()\n",
    "            letra = input('Ingresa una letra: ')\n",
    "            self.adivinar_letra(letra)\n",
    "            if '_' not in self.letras_adivinadas:\n",
    "                print('\\n¡¡Yuhuuuuu!!¡Te has salvado de la horca!')\n",
    "                self.reiniciar_partida()\n",
    "            elif self.vidas == 0:\n",
    "                print('\\nVaya, has agotado todas las vidas.')\n",
    "                print('La palabra era', self.palabra)\n",
    "                self.reiniciar_partida()\n",
    "\n",
    "    def adivinar_letra(self, letra):\n",
    "        if letra in self.palabra:\n",
    "            for i in range(len(self.palabra)):\n",
    "                if self.palabra[i] == letra:\n",
    "                    self.letras_adivinadas[i] = letra\n",
    "            print('\\n¡Correcto!')\n",
    "            print(''.join(self.letras_adivinadas))\n",
    "        else:\n",
    "            self.vidas -= 1\n",
    "            print(f'\\nNo está la letra {letra}. Te quedan {self.vidas} vidas.')\n",
    "\n",
    "    def imprimir_ahorcado(self):\n",
    "        if self.vidas == 6:\n",
    "            print(\"\"\"\n",
    "                           ___\n",
    "                          |   |\n",
    "                              |\n",
    "                              |\n",
    "                              |\n",
    "                        ______|\n",
    "            \"\"\")\n",
    "        elif self.vidas == 5:\n",
    "            print(\"\"\"\n",
    "                           ___\n",
    "                          |   |\n",
    "                          O   |\n",
    "                              |\n",
    "                              |\n",
    "                        ______|\n",
    "            \"\"\")\n",
    "        elif self.vidas == 4:\n",
    "            print(\"\"\"\n",
    "                           ___\n",
    "                          |   |\n",
    "                          O   |\n",
    "                          |   |\n",
    "                              |\n",
    "                        ______|\n",
    "            \"\"\")\n",
    "        elif self.vidas == 3:\n",
    "            print(\"\"\"\n",
    "                           ___\n",
    "                          |   |\n",
    "                          O   |\n",
    "                         /|   |\n",
    "                              |\n",
    "                        ______|\n",
    "            \"\"\")\n",
    "        elif self.vidas == 2:\n",
    "            print(\"\"\"\n",
    "                           ___\n",
    "                          |   |\n",
    "                          O   |\n",
    "                         /|\\  |\n",
    "                              |\n",
    "                        ______|\n",
    "            \"\"\")\n",
    "        elif self.vidas == 1:\n",
    "            print(\"\"\"\n",
    "                           ___\n",
    "                          |   |\n",
    "                          O   |\n",
    "                         /|\\  |\n",
    "                         /    |\n",
    "                        ______|\n",
    "            \"\"\")\n",
    "        elif self.vidas == 0:\n",
    "            print(\"\"\"\n",
    "                           ___\n",
    "                          |   |\n",
    "                          O   |\n",
    "                         /|\\  |\n",
    "                         / \\  |\n",
    "                        ______|\n",
    "            \"\"\")\n",
    "    \n",
    "    def reiniciar_partida(self):\n",
    "        otra_partida = input(\"\\n¿Quieres jugar otra partida? (S/N)\")\n",
    "        if otra_partida.lower() == 's':\n",
    "            self.__init__()\n",
    "            self.jugar()\n",
    "        elif otra_partida.lower() == 'n':\n",
    "            print('Gracias por jugar. ¡Hasta luego!')\n",
    "            exit()\n",
    "\n",
    "# Instanciamos y ejecutamos el juego\n",
    "ahorcado = Ahorcado()\n",
    "ahorcado.jugar()\n"
   ]
  },
  {
   "cell_type": "markdown",
   "metadata": {},
   "source": [
    "## Juego de preguntas y respuestas"
   ]
  },
  {
   "cell_type": "markdown",
   "metadata": {},
   "source": [
    "### Pseudocódigo"
   ]
  },
  {
   "cell_type": "markdown",
   "metadata": {},
   "source": [
    "Juego de preguntas y respuestas: es un juego en el que se hacen preguntas sobre una variedad de temas y los jugadores deben responder correctamente para avanzar. Las preguntas pueden ser de diferentes categorías, como historia, ciencias, entretenimiento o cultura general. El objetivo del juego es responder la mayor cantidad de preguntas correctamente para ganar el juego. Este juego puede ser jugado de forma individual o en equipo y es una forma divertida de aprender y poner a prueba tus conocimientos."
   ]
  },
  {
   "cell_type": "markdown",
   "metadata": {},
   "source": [
    "1. Establecer preguntas-nº de preguntas y respuesta en VARIOS diccionarios de CATEGORIAS DIFERENTES\n",
    "2. El tema de las preguntas: aleatorios/ seleccionado por el jugador\n",
    "3. Establecer respuesta correcta con un booleano\n",
    "4. Contador de preguntas acertadas\n",
    "5. Fin del juego: Limite de preguntas\n",
    "+ ¿Quieres jugar una nueva partida?"
   ]
  },
  {
   "cell_type": "markdown",
   "metadata": {},
   "source": [
    "### Código"
   ]
  },
  {
   "cell_type": "code",
   "execution_count": null,
   "metadata": {},
   "outputs": [],
   "source": [
    "#Juego 3. Preguntas y respuestas\n",
    "\n",
    "saludo = input(\"¡Hola! ¿Cómo te llamas? \")\n",
    "print(\"Bienvenid@ a PREGUNTAS Y RESPUESTAS\", saludo.title(), \". ¿Te atreves con el bloque de GEOGRAFIA?\")\n",
    "\n",
    "# Defino diccionario de preguntas y respuestas\n",
    "dic_geografia = {\n",
    "    \"¿Cuál es el río más largo de la Península Ibérica?\" : \"tajo\",\n",
    "    \"¿Cuál es el país más pequeño del mundo?\" : \"vaticano\",\n",
    "    \"¿Qué país tiene más habitantes?\" : \"india\",\n",
    "    \"¿Qué país es el más grande del mundo?\" : \"rusia\",\n",
    "    \"¿Cuál es la montaña más alta del mundo?\" : \"everest\"\n",
    "}\n",
    "\n",
    "# Defino contador de preguntas acertadas y preguntas fallidas\n",
    "preguntas_acertadas = 0\n",
    "preguntas_fallidas = 0\n",
    "pregunta_actual = iter(dic_geografia.items())\n",
    "\n",
    "while preguntas_acertadas < 3 and preguntas_fallidas < 3:\n",
    "    # Usamos next, función que permite obtener le próximo elemento de un iterador\n",
    "    pregunta, respuesta = next(pregunta_actual)\n",
    "    print(pregunta)\n",
    "    respuesta_user = input(pregunta)\n",
    "    if respuesta_user.lower() == respuesta:\n",
    "        preguntas_acertadas += 1\n",
    "        print(f\"Correcto, llevas {preguntas_acertadas} preguntas acertadas y {preguntas_fallidas} fallidas!\")\n",
    "    else:\n",
    "        preguntas_fallidas += 1\n",
    "        print(f\"No has acertado... Llevas {preguntas_acertadas} preguntas acertadas y {preguntas_fallidas} fallidas\")\n",
    "\n",
    "if preguntas_acertadas >= 3 and preguntas_fallidas <= 3:\n",
    "    print(f\"ERES UN AUTÉNTICO EXPLORADOR. ¡Has acertado {preguntas_acertadas} preguntas y fallado solo {preguntas_fallidas}!\")\n",
    "else:\n",
    "    print(f\"Sigue estudiando... pronto lo conseguirás. Has acertado {preguntas_acertadas} preguntas y fallado {preguntas_fallidas}.\")"
   ]
  }
 ],
 "metadata": {
  "kernelspec": {
   "display_name": "Python 3",
   "language": "python",
   "name": "python3"
  },
  "language_info": {
   "codemirror_mode": {
    "name": "ipython",
    "version": 3
   },
   "file_extension": ".py",
   "mimetype": "text/x-python",
   "name": "python",
   "nbconvert_exporter": "python",
   "pygments_lexer": "ipython3",
   "version": "3.11.8"
  }
 },
 "nbformat": 4,
 "nbformat_minor": 2
}
