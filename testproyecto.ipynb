{
 "cells": [
  {
   "cell_type": "code",
   "execution_count": 20,
   "metadata": {},
   "outputs": [
    {
     "name": "stdout",
     "output_type": "stream",
     "text": [
      "¡Has ganado contra tijeras!\n",
      "2\n",
      "Has perdido contra tijeras\n",
      "1\n",
      "Has perdido contra tijeras\n",
      "0\n"
     ]
    }
   ],
   "source": [
    "# de momento, no usamos estructura tipo random. Declaramos elección usuario ordenador en variable 'ordenador'\n",
    "ordenador = 'tijeras'\n",
    "\n",
    "# pedimos al jugador que escoja entre las 3 opciones\n",
    "opcion = input(\"Elige una opción: piedra, papel o tijeras\")\n",
    "\n",
    "# establecemos 3 rondas o jugadas. Iniciamos contador a 3 para ir restando en el bucle\n",
    "rondas = 3\n",
    "# mientras el contador sea más de 0, se sigue jugando\n",
    "while rondas >= 1:\n",
    "\n",
    "    # primer posible resultado: empate\n",
    "    if ordenador == opcion:\n",
    "        print(\"¡Es un empate!\")\n",
    "    elif opcion == 'piedra':\n",
    "        print(f\"¡Has ganado contra {ordenador}!\")\n",
    "    else:\n",
    "        print(\"Has perdido contra\", ordenador)\n",
    "\n",
    "    rondas -=1\n",
    "    print(rondas)\n",
    "    opcion = input(\"Elige una opción: piedra, papel o tijeras\")\n",
    "  \n",
    "    \n"
   ]
  },
  {
   "cell_type": "code",
   "execution_count": 2,
   "metadata": {},
   "outputs": [
    {
     "name": "stdout",
     "output_type": "stream",
     "text": [
      "papel\n",
      "¡HAS PERDIDO! Computer: papel Jessica : piedra\n"
     ]
    }
   ],
   "source": [
    "import random\n",
    "# Mejoras: Personalizar el juego con el nombre del jugador\n",
    "Nombre=input(\"¿Como te llamas?\")\n",
    "# Eleccion aleatoria de la opcion escogida por el ordenador: llamado \"computer\" en la demo. \n",
    "# Se han introducido las opciones en tuplas y utilizamos el codigo rando para \"una elección aleatoria\"\n",
    "opciones = (\"piedra\", \"papel\", \"tijeras\")  \n",
    "opc = opciones[random.randrange(0, 2)]\n",
    "# PENDIENTE DE ELIMINAR: Ahora mismo esta el print para comprobar la funcionalidad del juego que estamos creando.\n",
    "print(opc)\n",
    "jugador=str(input(\"piedra, papel o tijeras\"))\n",
    "\n",
    "\n",
    "if opc==jugador:\n",
    "    print(\"¡EMPATE! Computer:\", opc, Nombre, \":\", jugador)\n",
    "elif opc==\"piedra\" and jugador== \"papel\":\n",
    "    print(\"¡HAS GANADO! Computer:\",  opc, Nombre, \":\", jugador)\n",
    "elif opc==\"piedra\" and jugador== \"tijeras\":\n",
    "    print(\"¡HAS PERDIDO! Computer:\",  opc, Nombre, \":\", jugador) \n",
    "elif opc==\"tijeras\" and jugador== \"papel\":\n",
    "    print(\"¡HAS PERDIDO! Computer:\",  opc, Nombre, \":\", jugador)\n",
    "elif opc==\"tijeras\" and jugador== \"piedra\":\n",
    "    print(\"¡HAS GANADO! Computer:\",  opc, Nombre, \":\", jugador) \n",
    "elif opc==\"papel\" and jugador== \"piedra\":\n",
    "     print(\"¡HAS PERDIDO! Computer:\",  opc, Nombre, \":\", jugador)       \n",
    "elif opc==\"papel\" and jugador== \"tijeras\":\n",
    "    print(\"¡HAS GANADO! Computer:\",  opc, Nombre, \":\", jugador)\n",
    "else:\n",
    "    print(\"Algo salió mal... :(\")\n",
    "\n",
    "# los mensajes repetitivos, podemos mejorarlo con solo un mensaje final para todas las opciones\n",
    "# FALTA: Añadir las rondas y las puntuaciones\n",
    "# Dificultad: introducir rondas y el contador de ésta, establecido en 3, pero el input salta 4 veces\n",
    "\n",
    "\n"
   ]
  },
  {
   "cell_type": "markdown",
   "metadata": {},
   "source": []
  },
  {
   "cell_type": "markdown",
   "metadata": {},
   "source": [
    "1. Establecer preguntas-nº de preguntas y respuesta en VARIOS diccionarios de CATEGORIAS DIFERENTES\n",
    "2. El tema de las preguntas: aleatorios/ seleccionado por el jugador\n",
    "3. Establecer respuesta correcta con un booleano\n",
    "4. Contador de preguntas acertadas\n",
    "5. Fin del juego: Limite de preguntas\n",
    "+ ¿Quieres jugar una nueva partida?"
   ]
  },
  {
   "cell_type": "code",
   "execution_count": 92,
   "metadata": {},
   "outputs": [],
   "source": [
    "preg_facil={\"¿Quién escribió \"\"\"\"El Quijote\"\"\"\"? Cervantes o Calderon de la Barca\": \"Cervantes\", \"De que color es el mar? Azul o Rojo\": \"Azul\" }\n"
   ]
  },
  {
   "cell_type": "code",
   "execution_count": 93,
   "metadata": {},
   "outputs": [],
   "source": [
    "clave=list(preg_facil)"
   ]
  },
  {
   "cell_type": "code",
   "execution_count": 94,
   "metadata": {},
   "outputs": [],
   "source": [
    "respuesta= input(clave[1])"
   ]
  },
  {
   "cell_type": "markdown",
   "metadata": {},
   "source": []
  },
  {
   "cell_type": "code",
   "execution_count": 205,
   "metadata": {},
   "outputs": [
    {
     "name": "stdout",
     "output_type": "stream",
     "text": [
      "luna\n",
      "La palabra secreta tiene 4 letras _ _ _ _ \n",
      "Bien hecho! Has descubierto la A . Hay 1\n"
     ]
    }
   ],
   "source": [
    "palabras_a_jugar = (\"ala\", \"luna\", \"perro\")\n",
    "import random\n",
    "palabra_azar = lista[random.randrange(0,2)]\n",
    "print(palabra_azar)\n",
    "print(\"La palabra secreta tiene\", len(palabra_azar), \"letras\",(\"_ \")* len(palabra_azar))\n",
    "lista_palabra_azar=(list(palabra_azar))\n",
    "\n",
    "letra_elegida=input(\"Dime una letra...\")\n",
    "\n",
    "if letra_elegida in palabra_azar:\n",
    "    print(\"Bien hecho! Has descubierto la\", letra_elegida.upper(), \". Hay\", lista_palabra_azar.count(letra_elegida))\n",
    "    #converti a set\n",
    "else:\n",
    "    print(\"Ups! Esta letra no está en la palabra secreta\")\n"
   ]
  },
  {
   "cell_type": "code",
   "execution_count": 3,
   "metadata": {},
   "outputs": [
    {
     "name": "stdout",
     "output_type": "stream",
     "text": [
      "Bienvenid@ a PREGUNTAS Y RESPUESTAS No , ¿Te atreves con el bloque de GEOGRAFIA?\n",
      "no\n",
      "Oh... Espero verte pronto, Adiós\n"
     ]
    }
   ],
   "source": [
    "saludo=input(\"¡Hola! ¿Cómo te llamas?\" )\n",
    "print(\"Bienvenid@ a PREGUNTAS Y RESPUESTAS\", saludo.title(), \", ¿Te atreves con el bloque de GEOGRAFIA?\")\n",
    "jugar_o_no=input(\"si / no\").lower()\n",
    "\n",
    "print(jugar_o_no)\n",
    "\n",
    "while jugar_o_no == \"si\" or jugar_o_no ==\"no\":\n",
    "    if jugar_o_no== \"si\":\n",
    "        print(\"¿Preparado? Empezamos con las preguntas\")\n",
    "        break\n",
    "    elif jugar_o_no== \"no\":\n",
    "        print(\"Oh... Espero verte pronto, Adiós\")\n",
    "        break\n",
    "    else:\n",
    "        print(\"Disculpa no te he entendido, prueba de nuevo\")\n",
    "        jugar_o_no=input(\"si / no\")\n",
    "\n",
    "#DIFICULTAD: NO SE PARAR EL BUCLE CON LA CONDICIOnesS STRING SI O NO, y si es no que no continue con el codigo. Tuve que poner un break forzado\n",
    "        \n",
    "    \n"
   ]
  },
  {
   "cell_type": "code",
   "execution_count": null,
   "metadata": {},
   "outputs": [],
   "source": []
  },
  {
   "cell_type": "code",
   "execution_count": 4,
   "metadata": {},
   "outputs": [
    {
     "name": "stdout",
     "output_type": "stream",
     "text": [
      "¿Cuál es el río más largo de la Península Ibérica?\n",
      "Tu respuesta es: el tajo\n",
      "Correcto, sumas 1 punto!\n",
      "¿Cuál es el país más pequeño del mundo?\n",
      "Tu respuesta es españa\n",
      "No has acertado... tal vez en la proxima pregunta tengas más suerte\n",
      "¿Qué país tiene más habitantes?\n",
      "Tu respuesta es: india\n",
      "Correcto, sumas 1 punto!\n",
      "¿Qué país es el más grande del mundo? \n",
      "Tu respuesta es: italia\n",
      "No has acertado... tal vez en la proxima pregunta tengas más suerte\n",
      "¿Cuál es la montaña más alta del mundo?\n",
      "everest\n",
      "Correcto, sumas 1 punto!\n",
      "Has obtenido: 1 puntos\n",
      "Sigue estudiando... pronto lo conseguirás\n"
     ]
    }
   ],
   "source": [
    "marcador=0 \n",
    "\n",
    "    #PREGUNTA 1\n",
    "print(\"¿Cuál es el río más largo de la Península Ibérica?\")\n",
    "respuesta1=input(\"¿Cuál es el río más largo de la Península Ibérica?\").lower()\n",
    "print(\"Tu respuesta es:\", respuesta1)\n",
    "if \"tajo\" in respuesta1:\n",
    "     print(\"Correcto, sumas 1 punto!\")\n",
    "     marcador+=1\n",
    "else:\n",
    "     print(\"No has acertado... tal vez en la proxima pregunta tengas más suerte\")\n",
    "     marcador-=1\n",
    "\n",
    "     #PREGUNTA 2\n",
    "print(\"¿Cuál es el país más pequeño del mundo?\")\n",
    "respuesta2=input(\"¿Cuál es el país más pequeño del mundo?\").lower()\n",
    "print(\"Tu respuesta es\", respuesta2)\n",
    "if \"vaticano\" in respuesta2:\n",
    "    print(\"Correcto, sumas 1 punto!\")\n",
    "    marcador+=1\n",
    "else:\n",
    "     print(\"No has acertado... tal vez en la proxima pregunta tengas más suerte\")\n",
    "     marcador-=1\n",
    "\n",
    "     #PREGUNTA 3\n",
    "print(\"¿Qué país tiene más habitantes?\")\n",
    "respuesta3=input(\"¿Qué país tiene más habitantes?\").lower()\n",
    "print(\"Tu respuesta es:\", respuesta3)\n",
    "if \"india\" in respuesta3:\n",
    "     print(\"Correcto, sumas 1 punto!\")\n",
    "     marcador+=1\n",
    "else:\n",
    "     print(\"No has acertado... tal vez en la proxima pregunta tengas más suerte\")\n",
    "     marcador-=1\n",
    "\n",
    "     #PREGUNTA 4\n",
    "print(\"¿Qué país es el más grande del mundo? \")\n",
    "respuesta4=input(\"¿Qué país es el más grande del mundo? \").lower()\n",
    "print(\"Tu respuesta es:\", respuesta4)\n",
    "if \"rusia\" in respuesta4:\n",
    "     print(\"Correcto, sumas 1 punto!\")\n",
    "     marcador+=1\n",
    "else:\n",
    "     print(\"No has acertado... tal vez en la proxima pregunta tengas más suerte\")\n",
    "     marcador-=1\n",
    "\n",
    "     #PREGUNTA 5\n",
    "print(\"¿Cuál es la montaña más alta del mundo?\")\n",
    "respuesta5=input(\"¿Cuál es la montaña más alta del mundo?\").lower()\n",
    "print(respuesta5)\n",
    "if \"everest\" in respuesta5:\n",
    "     print(\"Correcto, sumas 1 punto!\")\n",
    "     marcador+=1\n",
    "else:\n",
    "     print(\"No has acertado...\")\n",
    "     marcador-=1\n",
    "     \n",
    "\n",
    "print(\"Has obtenido:\", marcador, \"puntos\")\n",
    "if marcador > 4:\n",
    "     print(\"ERES UN AUTENTICO EXPLORADOR\")\n",
    "else:\n",
    "     print(\"Sigue estudiando... pronto lo conseguirás\")"
   ]
  }
 ],
 "metadata": {
  "kernelspec": {
   "display_name": "Python 3",
   "language": "python",
   "name": "python3"
  },
  "language_info": {
   "codemirror_mode": {
    "name": "ipython",
    "version": 3
   },
   "file_extension": ".py",
   "mimetype": "text/x-python",
   "name": "python",
   "nbconvert_exporter": "python",
   "pygments_lexer": "ipython3",
   "version": "3.12.2"
  }
 },
 "nbformat": 4,
 "nbformat_minor": 2
}
